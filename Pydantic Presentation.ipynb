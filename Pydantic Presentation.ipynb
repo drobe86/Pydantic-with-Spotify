{
 "cells": [
  {
   "cell_type": "markdown",
   "metadata": {},
   "source": [
    "# Spotify: A Breakdown of your Music Tastes"
   ]
  },
  {
   "cell_type": "markdown",
   "metadata": {},
   "source": [
    "### Your Spotify Data\n",
    "Have you ever wondered how Netflix suggests what other shows you should watch or how Spotify suggests playlists and songs for you to listen to? These algorithms are all data based on your viewing/listening history and often times leads us to finding some of our new favorites. Interested in figuring out how to do some of that yourself? Let's find out!\n",
    "\n",
    "The Spotify API actually let's you access a lot of your data, so let's see if we can create some of the same analysis that they do. Let's understand our music tastes a little more and see how Spotify does the same!\n",
    "\n",
    "You can access your Spotify data through the Spotify's API: https://developer.spotify.com/ and just sign into your account to get your access token.\n",
    "\n",
    "One thing that we can do is look at our most popular artists on spotify (https://developer.spotify.com/documentation/web-api/reference/personalization/get-users-top-artists-and-tracks/). We can pull in the spotify api by either copy pasting results or using the requests package. You'll have to visit the spotify website to get an authentication token.\n",
    "\n",
    "Spotify's api gives you access to tons of data but for now lets just look at the User's Top Artists and Tracks API. This gives us the following:\n"
   ]
  },
  {
   "cell_type": "raw",
   "metadata": {
    "cell_style": "center"
   },
   "source": [
    "{\n",
    "  \"items\": [\n",
    "    {\n",
    "      \"external_urls\": {\n",
    "        \"spotify\": \"https://open.spotify.com/artist/08F3Y3SctIlsOEmKd6dnH8\"\n",
    "      },\n",
    "      \"followers\": {\n",
    "        \"href\": null,\n",
    "        \"total\": 893163\n",
    "      },\n",
    "      \"genres\": [\n",
    "        \"british folk\",\n",
    "        \"classic rock\",\n",
    "        \"folk\",\n",
    "        \"folk rock\",\n",
    "        \"mellow gold\",\n",
    "        \"rock\",\n",
    "        \"singer-songwriter\",\n",
    "        \"soft rock\"\n",
    "      ],\n",
    "      \"href\": \"https://api.spotify.com/v1/artists/08F3Y3SctIlsOEmKd6dnH8\",\n",
    "      \"id\": \"08F3Y3SctIlsOEmKd6dnH8\",\n",
    "      \"images\": [\n",
    "        {\n",
    "          \"height\": 640,\n",
    "          \"url\": \"https://i.scdn.co/image/752aee8a2185a522d8e9395603b4bfe32b26fa31\",\n",
    "          \"width\": 640\n",
    "        },\n",
    "        {\n",
    "          \"height\": 320,\n",
    "          \"url\": \"https://i.scdn.co/image/0eadd3f1eb9c1d70aa819372b7aab6dff73b756a\",\n",
    "          \"width\": 320\n",
    "        },\n",
    "        {\n",
    "          \"height\": 160,\n",
    "          \"url\": \"https://i.scdn.co/image/c816f0d016d5fcab1b945bc8d46740fd346e0cff\",\n",
    "          \"width\": 160\n",
    "        }\n",
    "      ],\n",
    "      \"name\": \"Yusuf / Cat Stevens\",\n",
    "      \"popularity\": 74,\n",
    "      \"type\": \"artist\",\n",
    "      \"uri\": \"spotify:artist:08F3Y3SctIlsOEmKd6dnH8\"\n",
    "    }\n",
    "    ....\n",
    "  ]\n",
    " ...\n",
    "}"
   ]
  },
  {
   "cell_type": "markdown",
   "metadata": {},
   "source": [
    "If you want to use the requests package, the code is below:"
   ]
  },
  {
   "cell_type": "raw",
   "metadata": {},
   "source": [
    "import requests\n",
    "import json\n",
    "def spotify_artists():\n",
    "    headers = {\n",
    "    'Accept': 'application/json',\n",
    "    'Content-Type': 'application/json',\n",
    "    'Authorization': 'Bearer Your Token',\n",
    "        }\n",
    "\n",
    "    params = (\n",
    "        ('time_range', 'long_term'),\n",
    "        ('limit', '50'),\n",
    "        ('offset', '0'),\n",
    "    )\n",
    "\n",
    "    response = requests.get('https://api.spotify.com/v1/me/top/artists', headers=headers, params=params)\n",
    "    data = response.text\n",
    "    data = json.loads(data)\n",
    "    return data       \n",
    "\n",
    "spotify_artists()"
   ]
  },
  {
   "cell_type": "markdown",
   "metadata": {},
   "source": [
    "This is awesome! Using this we can find out a variety of details like:\n",
    "- Who is my favorite artist?\n",
    "- What are my top genre's that I listen to?\n",
    "- Who is the least popular artist I listen to the most of?\n",
    "- And so much more!"
   ]
  },
  {
   "cell_type": "markdown",
   "metadata": {},
   "source": [
    "### Problem: Parsing JSON Data Files\n",
    "Data comes in all shapes and sizes but is more often than not messy and ugly. While Pandas has become an extremely popular package for manipulating data, it's extremely intensive and difficult to use on non-flat file formats. Another prominent file format is JSON. JSON is simple and understandable, but is often tedious and confusing to parse and analyze.\n",
    "\n",
    "As I'm sure you know, data management sucks up a majority of the time for any project. You have to get the data, format it, validate it, write additional functions and that's all before just performing analysis. Additionally, if you're part of a larger development project, it's easy for the code to diverge between you and other developers. But what if there was an easier way to get past that stage and get on to the analytics? What if writing the code was understandable to look back on and easy to manage?\n",
    "\n",
    "For loops and various comprehensions can be used to parse the data, but they often results in ugly code that is difficult to maintain and pass on. In a professional environment, it's critical to maintain efficient and effective code and the delays in understanding and maintaining JSON data can result in all types of problems. This is where Pydantic Comes in...."
   ]
  },
  {
   "cell_type": "markdown",
   "metadata": {},
   "source": [
    "### What is Pydantic?\n",
    "Pydantic is a data validation and settings management package in Python that allows you to specify and validate the format of the data. Pydantic's Basemodel module utilizes DataClasses which allows you to create a class of what our data should look like so we can declare which fields are required and what types they should take, what errors should be raised, as well as declaring defaults and much more! \n",
    "\n",
    "Pydantic has a lot of great capabilities but we'll focus on the Data Validation and Structure part here."
   ]
  },
  {
   "cell_type": "markdown",
   "metadata": {},
   "source": [
    "### Why Pydantic?\n",
    "1. **Data Validation**\n",
    "\n",
    "      Reading through the entire JSON to look for outliers and anomalies can be impossible, Pydantic allows us to specify a structure and if the JSON doesn't follow it, we'll know.\n",
    "    \n",
    "    \n",
    "2. **Readability**\n",
    "\n",
    "      Pydantic models are clean and easy to read. All in the matter of 4 easy classes, we can easily understand the structure and fields of the entire JSON document. Pydantic makes it simple and efficient to locate and utilize any field, dictionary or list we would need. It's also especially good at making complicated, nested JSON files simple and readable.\n",
    "    \n",
    "    \n",
    "3. **Maintenance**\n",
    "\n",
    "      One of the best parts of Pydantic is that anyone can pick up your code, quickly understand the structure of the file you're reading and figure out where and how to update/fix/change any code. Additionally, if you add methods and functions (like we will below) to any of your classes, you no longer have to sort through what each function is doing to access one exact element of the JSON. Instead, we know exactly where it is, what it's doing, and how to adjust it.\n",
    "      \n",
    "##### Additionally, \n",
    "     \n",
    "4. **Plays nicely with your IDE/linter/brain**\n",
    "\n",
    "    There's no new schema definition micro-language to learn. If you know how to use python type hints, you know how to use pydantic. Data structures are just instances of classes you define with type annotations, so auto-completion, linting, mypy, IDEs (especially PyCharm), and your intuition should all work properly with your validated data.\n",
    "\n",
    "\n",
    "5. **Dual Use**\n",
    "\n",
    "    Pydantic's BaseSettings class allows pydantic to be used in both a \"validate this request data\" context and in a \"load my system settings\" context. The main differences are that system settings can be read from environment variables, and more complex objects like DSNs and python objects are often required.\n",
    "\n",
    "\n",
    "6. **Fast**\n",
    "\n",
    "    In benchmarks pydantic is faster than all other tested libraries.\n",
    "\n",
    "\n",
    "7. **Extensible**\n",
    "\n",
    "    Pydantic allows custom data types to be defined or you can extend validation with methods on a model decorated with the validator decorator.\n",
    "\n",
    "\n",
    "8. **Dataclasses integration**\n",
    "\n",
    "    As well as BaseModel, pydantic provides a dataclass decorator which creates (almost) vanilla python dataclasses with input data parsing and validation.\n",
    "\n",
    "      \n",
    "*(4-8) from Pydantic Documentation"
   ]
  },
  {
   "cell_type": "markdown",
   "metadata": {},
   "source": [
    "### Pydantic in Action"
   ]
  },
  {
   "cell_type": "code",
   "execution_count": null,
   "metadata": {},
   "outputs": [],
   "source": [
    "from pydantic import BaseModel, ValidationError, validator\n",
    "import typing\n",
    "import json\n",
    "\n",
    "with open(r\"C:\\Users\\bajojl\\Documents\\Python Practice\\Pydantic-with-Spotify\\spotify.json\") as f:\n",
    "    data = json.load(f)"
   ]
  },
  {
   "cell_type": "markdown",
   "metadata": {},
   "source": [
    "We can create what the structure should look like using the BaseModel package inside of Pydantic. As a reminder here is what the data looks like:"
   ]
  },
  {
   "cell_type": "raw",
   "metadata": {
    "cell_style": "center"
   },
   "source": [
    "{\n",
    "  \"items\": [\n",
    "    {\n",
    "      \"external_urls\": {\n",
    "        \"spotify\": \"https://open.spotify.com/artist/08F3Y3SctIlsOEmKd6dnH8\"\n",
    "      },\n",
    "      \"followers\": {\n",
    "        \"href\": null,\n",
    "        \"total\": 893163\n",
    "      },\n",
    "      \"genres\": [\n",
    "        \"british folk\",\n",
    "        \"classic rock\",\n",
    "        \"folk\",\n",
    "        \"folk rock\",\n",
    "        \"mellow gold\",\n",
    "        \"rock\",\n",
    "        \"singer-songwriter\",\n",
    "        \"soft rock\"\n",
    "      ],\n",
    "      \"href\": \"https://api.spotify.com/v1/artists/08F3Y3SctIlsOEmKd6dnH8\",\n",
    "      \"id\": \"08F3Y3SctIlsOEmKd6dnH8\",\n",
    "      \"images\": [\n",
    "        {\n",
    "          \"height\": 640,\n",
    "          \"url\": \"https://i.scdn.co/image/752aee8a2185a522d8e9395603b4bfe32b26fa31\",\n",
    "          \"width\": 640\n",
    "        },\n",
    "        {\n",
    "          \"height\": 320,\n",
    "          \"url\": \"https://i.scdn.co/image/0eadd3f1eb9c1d70aa819372b7aab6dff73b756a\",\n",
    "          \"width\": 320\n",
    "        },\n",
    "        {\n",
    "          \"height\": 160,\n",
    "          \"url\": \"https://i.scdn.co/image/c816f0d016d5fcab1b945bc8d46740fd346e0cff\",\n",
    "          \"width\": 160\n",
    "        }\n",
    "      ],\n",
    "      \"name\": \"Yusuf / Cat Stevens\",\n",
    "      \"popularity\": 74,\n",
    "      \"type\": \"artist\",\n",
    "      \"uri\": \"spotify:artist:08F3Y3SctIlsOEmKd6dnH8\"\n",
    "    }\n",
    "    ....\n",
    "  ]\n",
    " ...\n",
    "}"
   ]
  },
  {
   "cell_type": "markdown",
   "metadata": {},
   "source": [
    "We can create our model like so and just to be sure, we'll add a validator as well"
   ]
  },
  {
   "cell_type": "code",
   "execution_count": null,
   "metadata": {
    "cell_style": "center"
   },
   "outputs": [],
   "source": [
    "class External_Urls(BaseModel):\n",
    "    spotify: str\n",
    "\n",
    "class Followers(BaseModel):\n",
    "    href: typing.Any\n",
    "    total: int\n",
    "\n",
    "class Images(BaseModel):\n",
    "    height: int\n",
    "    url: str\n",
    "    width: int\n",
    "\n",
    "class ItemsInner(BaseModel):\n",
    "    external_urls: External_Urls\n",
    "    followers: Followers\n",
    "    genres: list\n",
    "    href: str\n",
    "    id: str\n",
    "    images: typing.List[Images]\n",
    "    name: str\n",
    "    popularity: int\n",
    "    type: str\n",
    "    uri: str\n",
    "\n",
    "class Total(BaseModel):\n",
    "    items: typing.List[ItemsInner]\n",
    "    total: int\n",
    "    limit: int\n",
    "    offset: int\n",
    "    href: str\n",
    "    previous: typing.Any\n",
    "    next: bool\n",
    "\n",
    "    # next true or false\n",
    "    @validator('next')\n",
    "    def next_boolean(cls, v):\n",
    "        if v != True:\n",
    "            raise ValueError('Next is not Boolean')\n",
    "        return v"
   ]
  },
  {
   "cell_type": "markdown",
   "metadata": {},
   "source": [
    "We can now call our object:"
   ]
  },
  {
   "cell_type": "code",
   "execution_count": null,
   "metadata": {},
   "outputs": [],
   "source": [
    "try:\n",
    "    Total(**data)\n",
    "except ValidationError as e:\n",
    "    print(e)\n",
    "# myobj = Total(**data)"
   ]
  },
  {
   "cell_type": "markdown",
   "metadata": {},
   "source": [
    "Turns out that this is actually the last page so none ends up being null, now we know!"
   ]
  },
  {
   "cell_type": "markdown",
   "metadata": {},
   "source": [
    "### Where does Data Analysis Come In?"
   ]
  },
  {
   "cell_type": "markdown",
   "metadata": {},
   "source": [
    "Now that we have a data structure, we can create methods based on this structure to get us anything that we could ever want!\n",
    "Who is our favorite artist based on Spotify's popularity metric?. You could try parsing through the weeks list for every contributor... or we can make a few changes to our classes:"
   ]
  },
  {
   "cell_type": "code",
   "execution_count": null,
   "metadata": {},
   "outputs": [],
   "source": [
    "## Getting your most popular artist without pydantic \n",
    "[i.get('name') for i in data.get('items') if i.get('popularity') == max([i.get('popularity') for i in data.get('items')])]"
   ]
  },
  {
   "cell_type": "code",
   "execution_count": null,
   "metadata": {},
   "outputs": [],
   "source": [
    "max(data.get('items'), key=lambda y: y.get('popularity')).get('name')"
   ]
  },
  {
   "cell_type": "markdown",
   "metadata": {},
   "source": [
    "While the first way is pretty messy, the second way is pretty common. This doesn't seem all that bad right? Should be easy to go through that without the use of a package. However, what if you're working on a project with someone else? What if you're working on a project where someone needs the data model that you've created.\n",
    "\n",
    "This creates a mess and we're suddenly lost if we need to fix a function. This is where Pydantic comes in:"
   ]
  },
  {
   "cell_type": "code",
   "execution_count": null,
   "metadata": {},
   "outputs": [],
   "source": [
    "class Total(BaseModel):\n",
    "    items: typing.List[ItemsInner]\n",
    "    total: int\n",
    "    limit: int\n",
    "    offset: int\n",
    "    href: str\n",
    "    previous: typing.Any\n",
    "    next: typing.Any\n",
    "        \n",
    "    @property\n",
    "    def favorite_artist(self):\n",
    "        return max(self.items, key=lambda y: y.popularity).name\n"
   ]
  },
  {
   "cell_type": "code",
   "execution_count": null,
   "metadata": {},
   "outputs": [],
   "source": [
    "myobj = Total(**data)\n",
    "myobj.favorite_artist"
   ]
  },
  {
   "cell_type": "markdown",
   "metadata": {},
   "source": [
    "Bam! Just like that we have a quick and easy property that anyone can access, edit and maintain. We can also quickly tell where this function falls, what part of the schema it's going to be accessing and it's purpose!"
   ]
  },
  {
   "cell_type": "markdown",
   "metadata": {},
   "source": [
    "Well your probably knew who you listened to the most already. **How about who are our top 5?**"
   ]
  },
  {
   "cell_type": "code",
   "execution_count": null,
   "metadata": {},
   "outputs": [],
   "source": [
    "class Total(BaseModel):\n",
    "    items: typing.List[ItemsInner]\n",
    "    total: int\n",
    "    limit: int\n",
    "    offset: int\n",
    "    href: str\n",
    "    previous: typing.Any\n",
    "    next: typing.Any\n",
    "        \n",
    "    @property\n",
    "    def top_5(self):\n",
    "         return [x.name for x in sorted(self.items, key = lambda x: x.popularity, reverse = True)[:5]]\n",
    "myobj = Total(**data)\n",
    "myobj.top_5"
   ]
  },
  {
   "cell_type": "markdown",
   "metadata": {},
   "source": [
    "**What if we want to know who is the Artist we listen to the most, yet is the least popular?**"
   ]
  },
  {
   "cell_type": "code",
   "execution_count": null,
   "metadata": {},
   "outputs": [],
   "source": [
    "class ItemsInner(BaseModel):\n",
    "    external_urls: External_Urls\n",
    "    followers: Followers\n",
    "    genres: list\n",
    "    href: str\n",
    "    id: str\n",
    "    images: typing.List[Images]\n",
    "    name: str\n",
    "    popularity: int\n",
    "    type: str\n",
    "    uri: str\n",
    "    \n",
    "    @property\n",
    "    def score(self):\n",
    "        return self.popularity/ 100 * self.followers.total\n",
    "\n",
    "class Total(BaseModel):\n",
    "    items: typing.List[ItemsInner]\n",
    "    total: int\n",
    "    limit: int\n",
    "    offset: int\n",
    "    href: str\n",
    "    previous: typing.Any\n",
    "    next: typing.Any\n",
    "    \n",
    "    \n",
    "    @property\n",
    "    def unpopular_favorite(self):\n",
    "        scored = min(self.items, key = lambda x: x.score)\n",
    "        return scored.name, scored.score"
   ]
  },
  {
   "cell_type": "code",
   "execution_count": null,
   "metadata": {},
   "outputs": [],
   "source": [
    "myobj = Total(**data)\n",
    "myobj.unpopular_favorite"
   ]
  },
  {
   "cell_type": "markdown",
   "metadata": {},
   "source": [
    "## Problem for Audience\n",
    "**What are the n most common genres based on your top 50 favorite artists?**\n",
    "(hint: use the Counter module from the collections package)"
   ]
  },
  {
   "cell_type": "code",
   "execution_count": null,
   "metadata": {},
   "outputs": [],
   "source": [
    "##Code"
   ]
  },
  {
   "cell_type": "code",
   "execution_count": null,
   "metadata": {},
   "outputs": [],
   "source": [
    "##Answer"
   ]
  },
  {
   "cell_type": "markdown",
   "metadata": {},
   "source": [
    "Can't do this from Jupyter but a fun example"
   ]
  },
  {
   "cell_type": "markdown",
   "metadata": {},
   "source": [
    "## Wrapping up..Who else is using Pydantic and why you should too!\n",
    "Hundreds of organisations and packages are using pydantic, including:\n",
    "\n",
    "- **FastAPI**\n",
    "a high performance API framework, easy to learn, fast to code and ready for production, based on pydantic and Starlette.\n",
    "- **Project Jupyter**\n",
    "developers of the Jupyter notebook are using pydantic for subprojects.\n",
    "- **Microsoft**\n",
    "are using pydantic (via FastAPI) for numerous services, some of which are \"getting integrated into the core Windows product and some Office products.\"\n",
    "- **Amazon Web Services**\n",
    "are using pydantic in gluon-ts, an open-source probabilistic time series modeling library.\n",
    "- **The NSA**\n",
    "are using pydantic in WALKOFF, an open-source automation framework.\n",
    "- **Uber**\n",
    "are using pydantic in Ludwig, an an open-source TensorFlow wrapper\n",
    "\n",
    "*From the Pydantic Documentation\n",
    "\n",
    "Wrapping this all up, Pydantic is an extremely useful tool when it comes to Data Validation, Readability and Maintenence and is especially useful for pulling information from JSON files. Pydantic's quick and easy to use Dataclasses allow us to efficiently and  effectively format, validate and write functions to extract information and get to on to the analytics. Additionally, Pydantic makes working team projects smart, efficient and easy. Next time you're working with JSON, consider Pydantic!"
   ]
  }
 ],
 "metadata": {
  "kernelspec": {
   "display_name": "Python 3",
   "language": "python",
   "name": "python3"
  },
  "language_info": {
   "codemirror_mode": {
    "name": "ipython",
    "version": 3
   },
   "file_extension": ".py",
   "mimetype": "text/x-python",
   "name": "python",
   "nbconvert_exporter": "python",
   "pygments_lexer": "ipython3",
   "version": "3.7.3"
  }
 },
 "nbformat": 4,
 "nbformat_minor": 2
}
